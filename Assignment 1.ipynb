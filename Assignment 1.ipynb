{
 "cells": [
  {
   "cell_type": "markdown",
   "id": "6bc2c095-8222-4b12-b2eb-6f580f7456b4",
   "metadata": {},
   "source": [
    "#1.Read the ages of people in a village. For ages between 1 to 5 store the string \"infant\", between 6\n",
    "to 13 store the string \"child\", between 14 to 18 store the string\" teen\", between 19 to 35 store the\n",
    "string \"young\", between 36 to 60 store the string \"adult\" and above 60, store the string \"senior\n",
    "citizen\". Print the resultant list. \n"
   ]
  },
  {
   "cell_type": "code",
   "execution_count": 9,
   "id": "0c541e16-ba9c-4912-9082-ff8f04d84f47",
   "metadata": {},
   "outputs": [
    {
     "name": "stdin",
     "output_type": "stream",
     "text": [
      "Enter the Number of People Present in the  Village : 6\n",
      "Enter the Age : 3\n",
      "Enter the Age : 4\n",
      "Enter the Age : 7\n",
      "Enter the Age : 2\n",
      "Enter the Age : 7\n",
      "Enter the Age : 1\n"
     ]
    },
    {
     "name": "stdout",
     "output_type": "stream",
     "text": [
      "Infant: [3, 4, 2, 1]\n",
      "Child: [7, 7]\n",
      "Teen: []\n",
      "Young: []\n",
      "Adult: []\n",
      "Senior Citizen: []\n"
     ]
    }
   ],
   "source": [
    "People = int(input(\"Enter the Number of People Present in the  Village :\"))\n",
    "\n",
    "Infant = []\n",
    "Child = []\n",
    "Teen = []\n",
    "Young = []\n",
    "Adult = []\n",
    "Senior_Citizen = []\n",
    "\n",
    "for i in range(People):\n",
    "    Age = int(input(\"Enter the Age :\"))\n",
    "    if 1 <= Age <= 5:\n",
    "        Infant.append(Age)\n",
    "    elif 6 <= Age <= 13:\n",
    "        Child.append(Age)\n",
    "    elif 14 <= Age <= 18:\n",
    "        Teen.append(Age)\n",
    "    elif 19 <= Age <= 35:\n",
    "        Young.append(Age)\n",
    "    elif 36 <= Age <= 60:\n",
    "        Adult.append(Age)\n",
    "    elif Age > 60:\n",
    "        Senior_Citizen.append(Age)\n",
    "    else:\n",
    "        print(f\"Invalid age: {Age}\")\n",
    "print(\"Infant:\", Infant)\n",
    "print(\"Child:\", Child)\n",
    "print(\"Teen:\", Teen)\n",
    "print(\"Young:\", Young)\n",
    "print(\"Adult:\", Adult)\n",
    "print(\"Senior Citizen:\", Senior_Citizen)"
   ]
  },
  {
   "cell_type": "markdown",
   "id": "d0558906-44ca-475d-b8f0-9cd4183d6acf",
   "metadata": {},
   "source": [
    "# 2.Using List Comprehension, print the squares of the numbers from 1 to 10"
   ]
  },
  {
   "cell_type": "code",
   "execution_count": 11,
   "id": "bdb1c4a2-d188-4da6-b492-2e555727dc7f",
   "metadata": {},
   "outputs": [],
   "source": [
    "Mylist = [1,2,3,4,5,6,7,8,9,10]\n",
    "\n",
    "Squared_List = [ i**2 for i in Mylist]\n"
   ]
  },
  {
   "cell_type": "code",
   "execution_count": 12,
   "id": "ee12eefa-880d-4017-93e3-fb8071d7596b",
   "metadata": {},
   "outputs": [
    {
     "data": {
      "text/plain": [
       "[1, 4, 9, 16, 25, 36, 49, 64, 81, 100]"
      ]
     },
     "execution_count": 12,
     "metadata": {},
     "output_type": "execute_result"
    }
   ],
   "source": [
    "Squared_List"
   ]
  },
  {
   "cell_type": "markdown",
   "id": "c3c06068-f91f-4aa1-a01c-dce1b579a658",
   "metadata": {},
   "source": [
    "# 3.USing list Comprehension print the squares of only the positive numbers in a given list [-1, 1,2,-2, -3, 3, -4, 4]"
   ]
  },
  {
   "cell_type": "code",
   "execution_count": 19,
   "id": "c92bd6b8-09f4-4a23-b141-234dfc1e8d40",
   "metadata": {},
   "outputs": [],
   "source": [
    "Mylist = [-1,1,2,-2,-3,3,-4,4]\n",
    "\n",
    "Squared_List = [ i**2 for i in Mylist if i > 0]"
   ]
  },
  {
   "cell_type": "code",
   "execution_count": 20,
   "id": "33a78397-0a3d-4686-a028-78ccd805fc27",
   "metadata": {},
   "outputs": [
    {
     "data": {
      "text/plain": [
       "[1, 4, 9, 16]"
      ]
     },
     "execution_count": 20,
     "metadata": {},
     "output_type": "execute_result"
    }
   ],
   "source": [
    "Squared_List"
   ]
  },
  {
   "cell_type": "markdown",
   "id": "1ae34c81-38e0-4eec-a399-82f1bb976eab",
   "metadata": {},
   "source": [
    "# 4.Read the marks of 5 students in a course as a tuple. Print the highest, lowest and average of the input."
   ]
  },
  {
   "cell_type": "code",
   "execution_count": 29,
   "id": "b3905f7a-64eb-4f7e-a9aa-afeb2ad2c3df",
   "metadata": {},
   "outputs": [
    {
     "name": "stdin",
     "output_type": "stream",
     "text": [
      "Enter the Marks of Student 1 7\n",
      "Enter the Marks of Student 2 8\n",
      "Enter the Marks of Student 3 4\n",
      "Enter the Marks of Student 4 9\n",
      "Enter the Marks of Student 5 8\n"
     ]
    },
    {
     "name": "stdout",
     "output_type": "stream",
     "text": [
      "Highest Marks :  9\n",
      "Average Marks :  7.2\n",
      "Lowest Marks :  4\n"
     ]
    }
   ],
   "source": [
    "Marks = tuple(int(input(F\"Enter the Marks of Student {i+1}\"))for i in range(5))\n",
    "Highest = max(Marks)\n",
    "Lowest = min(Marks)\n",
    "Sum = sum(Marks)\n",
    "Average = Sum/5\n",
    "\n",
    "print(\"Highest Marks : \",Highest)\n",
    "print(\"Average Marks : \",Average)\n",
    "print(\"Lowest Marks : \",Lowest)"
   ]
  },
  {
   "cell_type": "markdown",
   "id": "ca66553d-6e28-45d9-a50f-3ff55246cba9",
   "metadata": {},
   "source": [
    "5.Excersises using Nested Data Structures. Read n integers from the user as a tuple. Create a tuple of\n",
    "tuples with each input item and its count. Sample Input : (1,2,1,3,4,2,4) Output : ((1,2), (2,2), (3,1),\n",
    "(4,2))"
   ]
  },
  {
   "cell_type": "code",
   "execution_count": null,
   "id": "45f0f96f-e1e6-4ea5-baa2-035ea3138db0",
   "metadata": {},
   "outputs": [],
   "source": []
  },
  {
   "cell_type": "code",
   "execution_count": null,
   "id": "f1fa7352-f021-4b15-a2cc-08a6ea694612",
   "metadata": {},
   "outputs": [],
   "source": []
  },
  {
   "cell_type": "code",
   "execution_count": null,
   "id": "d56de866-511d-4601-9868-eb6149f24664",
   "metadata": {},
   "outputs": [],
   "source": []
  }
 ],
 "metadata": {
  "kernelspec": {
   "display_name": "Python 3 (ipykernel)",
   "language": "python",
   "name": "python3"
  },
  "language_info": {
   "codemirror_mode": {
    "name": "ipython",
    "version": 3
   },
   "file_extension": ".py",
   "mimetype": "text/x-python",
   "name": "python",
   "nbconvert_exporter": "python",
   "pygments_lexer": "ipython3",
   "version": "3.13.1"
  }
 },
 "nbformat": 4,
 "nbformat_minor": 5
}
